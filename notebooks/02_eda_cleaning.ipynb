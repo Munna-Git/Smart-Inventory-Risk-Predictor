{
 "cells": [
  {
   "cell_type": "code",
   "execution_count": 57,
   "id": "72c05128-f804-444d-87f1-a3ac703dfd03",
   "metadata": {},
   "outputs": [
    {
     "name": "stdout",
     "output_type": "stream",
     "text": [
      "Sales: 40,470 rows\n",
      "Inventory: 8,343 rows\n",
      "External: 3,655 rows\n"
     ]
    }
   ],
   "source": [
    "# EDA and Data Cleaning \n",
    "\n",
    "import pandas as pd\n",
    "import numpy as np\n",
    "import matplotlib.pyplot as plt\n",
    "import seaborn as sns\n",
    "from datetime import datetime\n",
    "import warnings\n",
    "warnings.filterwarnings('ignore')\n",
    "\n",
    "# Load the messy data\n",
    "sales_df = pd.read_csv(r'data/sales_transactions.csv')\n",
    "inventory_df = pd.read_csv(r'data/inventory_levels.csv')\n",
    "external_df = pd.read_csv(r'data/external_factors.csv')\n",
    "stores_df = pd.read_csv(r'data/stores.csv')\n",
    "products_df = pd.read_csv(r'data/products.csv')\n",
    "\n",
    "print(f\"Sales: {sales_df.shape[0]:,} rows\")\n",
    "print(f\"Inventory: {inventory_df.shape[0]:,} rows\")\n",
    "print(f\"External: {external_df.shape[0]:,} rows\")"
   ]
  },
  {
   "cell_type": "code",
   "execution_count": 58,
   "id": "cccf4f3b-9917-4d6e-9327-35be420694c7",
   "metadata": {},
   "outputs": [
    {
     "name": "stdout",
     "output_type": "stream",
     "text": [
      "\n",
      "=== SALES DATA QUALITY ===\n",
      "Shape: (40470, 7)\n",
      "Missing values: 5993\n",
      "Duplicates: 0\n",
      "Negative values: 185\n",
      "Missing by column:\n",
      "unit_price       2980\n",
      "total_revenue    3013\n",
      "dtype: int64\n",
      "\n",
      "=== INVENTORY DATA QUALITY ===\n",
      "Shape: (8343, 8)\n",
      "Missing values: 820\n",
      "Duplicates: 0\n",
      "Negative values: 443\n",
      "Missing by column:\n",
      "current_stock    820\n",
      "dtype: int64\n",
      "\n",
      "=== EXTERNAL DATA QUALITY ===\n",
      "Shape: (3655, 10)\n",
      "Missing values: 325\n",
      "Duplicates: 0\n",
      "Negative values: 5\n",
      "Missing by column:\n",
      "temperature    325\n",
      "dtype: int64\n"
     ]
    }
   ],
   "source": [
    "#QUICK EDA - FIND THE PROBLEMS\n",
    "\n",
    "def quick_data_quality_check(df, name):\n",
    "    \"\"\"Quick data quality overview\"\"\"\n",
    "    print(f\"\\n=== {name.upper()} DATA QUALITY ===\")\n",
    "    print(f\"Shape: {df.shape}\")\n",
    "    print(f\"Missing values: {df.isnull().sum().sum()}\")\n",
    "    print(f\"Duplicates: {df.duplicated().sum()}\")\n",
    "    \n",
    "    # Check for obvious issues\n",
    "    numeric_cols = df.select_dtypes(include=[np.number]).columns\n",
    "    if len(numeric_cols) > 0:\n",
    "        negative_counts = (df[numeric_cols] < 0).sum()\n",
    "    print(f\"Negative values: {negative_counts.sum()}\")\n",
    "    \n",
    "    print(\"Missing by column:\")\n",
    "    missing = df.isnull().sum()\n",
    "    print(missing[missing > 0])\n",
    "\n",
    "# Check all datasets\n",
    "quick_data_quality_check(sales_df, \"Sales\")\n",
    "quick_data_quality_check(inventory_df, \"Inventory\") \n",
    "quick_data_quality_check(external_df, \"External\")"
   ]
  },
  {
   "cell_type": "markdown",
   "id": "3285315e-d6fe-44e9-b447-e4839d5f6c05",
   "metadata": {},
   "source": [
    "# SALES DATA CLEANING"
   ]
  },
  {
   "cell_type": "code",
   "execution_count": 59,
   "id": "c9c8807b-1227-4717-b463-b1805849ccf6",
   "metadata": {},
   "outputs": [
    {
     "data": {
      "text/html": [
       "<div>\n",
       "<style scoped>\n",
       "    .dataframe tbody tr th:only-of-type {\n",
       "        vertical-align: middle;\n",
       "    }\n",
       "\n",
       "    .dataframe tbody tr th {\n",
       "        vertical-align: top;\n",
       "    }\n",
       "\n",
       "    .dataframe thead th {\n",
       "        text-align: right;\n",
       "    }\n",
       "</style>\n",
       "<table border=\"1\" class=\"dataframe\">\n",
       "  <thead>\n",
       "    <tr style=\"text-align: right;\">\n",
       "      <th></th>\n",
       "      <th>transaction_id</th>\n",
       "      <th>store_id</th>\n",
       "      <th>product_id</th>\n",
       "      <th>date</th>\n",
       "      <th>sales_quantity</th>\n",
       "      <th>unit_price</th>\n",
       "      <th>total_revenue</th>\n",
       "    </tr>\n",
       "  </thead>\n",
       "  <tbody>\n",
       "    <tr>\n",
       "      <th>0</th>\n",
       "      <td>TXN72449</td>\n",
       "      <td>ST001</td>\n",
       "      <td>P001</td>\n",
       "      <td>2022-01-01</td>\n",
       "      <td>4</td>\n",
       "      <td>180.76</td>\n",
       "      <td>723.04</td>\n",
       "    </tr>\n",
       "    <tr>\n",
       "      <th>1</th>\n",
       "      <td>TXN25921</td>\n",
       "      <td>ST001</td>\n",
       "      <td>P003</td>\n",
       "      <td>2022-01-01</td>\n",
       "      <td>16</td>\n",
       "      <td>340.00</td>\n",
       "      <td>5440.00</td>\n",
       "    </tr>\n",
       "    <tr>\n",
       "      <th>2</th>\n",
       "      <td>TXN12345</td>\n",
       "      <td>ST001</td>\n",
       "      <td>P004</td>\n",
       "      <td>2022-01-01</td>\n",
       "      <td>14</td>\n",
       "      <td>239.67</td>\n",
       "      <td>3355.38</td>\n",
       "    </tr>\n",
       "    <tr>\n",
       "      <th>3</th>\n",
       "      <td>TXN61515</td>\n",
       "      <td>ST001</td>\n",
       "      <td>P006</td>\n",
       "      <td>2022-01-01</td>\n",
       "      <td>9</td>\n",
       "      <td>309.04</td>\n",
       "      <td>2781.36</td>\n",
       "    </tr>\n",
       "    <tr>\n",
       "      <th>4</th>\n",
       "      <td>TXN98706</td>\n",
       "      <td>ST001</td>\n",
       "      <td>P009</td>\n",
       "      <td>2022-01-01</td>\n",
       "      <td>12</td>\n",
       "      <td>131.46</td>\n",
       "      <td>1577.52</td>\n",
       "    </tr>\n",
       "  </tbody>\n",
       "</table>\n",
       "</div>"
      ],
      "text/plain": [
       "  transaction_id store_id product_id        date  sales_quantity  unit_price  \\\n",
       "0       TXN72449    ST001       P001  2022-01-01               4      180.76   \n",
       "1       TXN25921    ST001       P003  2022-01-01              16      340.00   \n",
       "2       TXN12345    ST001       P004  2022-01-01              14      239.67   \n",
       "3       TXN61515    ST001       P006  2022-01-01               9      309.04   \n",
       "4       TXN98706    ST001       P009  2022-01-01              12      131.46   \n",
       "\n",
       "   total_revenue  \n",
       "0         723.04  \n",
       "1        5440.00  \n",
       "2        3355.38  \n",
       "3        2781.36  \n",
       "4        1577.52  "
      ]
     },
     "execution_count": 59,
     "metadata": {},
     "output_type": "execute_result"
    }
   ],
   "source": [
    "sales_df.head()"
   ]
  },
  {
   "cell_type": "code",
   "execution_count": 60,
   "id": "a02de372-0042-43d1-84b2-a2692c28e0b5",
   "metadata": {},
   "outputs": [
    {
     "name": "stdout",
     "output_type": "stream",
     "text": [
      "<class 'pandas.core.frame.DataFrame'>\n",
      "RangeIndex: 40470 entries, 0 to 40469\n",
      "Data columns (total 7 columns):\n",
      " #   Column          Non-Null Count  Dtype  \n",
      "---  ------          --------------  -----  \n",
      " 0   transaction_id  40470 non-null  object \n",
      " 1   store_id        40470 non-null  object \n",
      " 2   product_id      40470 non-null  object \n",
      " 3   date            40470 non-null  object \n",
      " 4   sales_quantity  40470 non-null  int64  \n",
      " 5   unit_price      37490 non-null  float64\n",
      " 6   total_revenue   37457 non-null  float64\n",
      "dtypes: float64(2), int64(1), object(4)\n",
      "memory usage: 2.2+ MB\n",
      "\n",
      " None\n",
      "\n",
      "        sales_quantity    unit_price  total_revenue\n",
      "count    40470.000000  37490.000000   37457.000000\n",
      "mean        10.873709    199.505529    1139.372329\n",
      "std         56.387181     88.343173    1194.085901\n",
      "min        -42.000000     32.750000      32.750000\n",
      "25%          2.000000    156.280000     312.560000\n",
      "50%          4.000000    189.760000     748.680000\n",
      "75%          8.000000    277.950000    1545.200000\n",
      "max       2376.000000    385.500000   11862.360000\n"
     ]
    }
   ],
   "source": [
    "print(\"\\n\", sales_df.info())\n",
    "print(\"\\n\", sales_df.describe())"
   ]
  },
  {
   "cell_type": "code",
   "execution_count": 61,
   "id": "4642159e-29c8-4a57-ba6f-fc88719ee244",
   "metadata": {},
   "outputs": [],
   "source": [
    "sales_df['date'] = pd.to_datetime(sales_df['date'], errors = \"coerce\")"
   ]
  },
  {
   "cell_type": "code",
   "execution_count": 62,
   "id": "0531f81b-5707-48bd-8592-40df73e01360",
   "metadata": {},
   "outputs": [
    {
     "name": "stdout",
     "output_type": "stream",
     "text": [
      "The shape of the data before removing invalid value is  40470\n"
     ]
    }
   ],
   "source": [
    "#As we already know that there are negative values in sales data which logically doesnt make any sense in sales\n",
    "#There cannot be a negative sales. Hence we are going to delete such values\n",
    "\n",
    "print(\"The shape of the data before removing invalid value is \", len(sales_df))"
   ]
  },
  {
   "cell_type": "code",
   "execution_count": 63,
   "id": "1c6adadf-5134-4fd0-90ee-8aed1e074f28",
   "metadata": {},
   "outputs": [],
   "source": [
    "sales_df= sales_df[sales_df[\"sales_quantity\"] >=0]"
   ]
  },
  {
   "cell_type": "code",
   "execution_count": 64,
   "id": "675daf47-9584-4837-8d9f-db88b6a2590c",
   "metadata": {},
   "outputs": [],
   "source": [
    "#Removing outliers\n",
    "\n",
    "#From the describe built in we can observe that there are outliers which must be handles accordingly.\n",
    "\n",
    "#And also, after exploring th outliers, i decided to keep the threshold for outlier removal as 99 percentile\n",
    "q99 = sales_df[\"sales_quantity\"].quantile(0.99)\n",
    "sales_df = sales_df[sales_df[\"sales_quantity\"] <=q99]"
   ]
  },
  {
   "cell_type": "code",
   "execution_count": 65,
   "id": "b8d0eec5-0e9a-4843-8a31-def3c01339d0",
   "metadata": {},
   "outputs": [],
   "source": [
    "#Removing wrong store ID's\n",
    "valid_stores = stores_df['store_id'].tolist()\n",
    "sales_df= sales_df[sales_df['store_id'].isin(valid_stores)]"
   ]
  },
  {
   "cell_type": "code",
   "execution_count": 66,
   "id": "b05f6891-2920-4077-b25e-59cd694ff9d4",
   "metadata": {},
   "outputs": [],
   "source": [
    "#Just to have consistency in the product id column, lets convert it to uppercase\n",
    "sales_df['product_id'] = sales_df['product_id'].str.upper()"
   ]
  },
  {
   "cell_type": "code",
   "execution_count": 67,
   "id": "64724b5e-5a6e-4bc5-a1ce-c6860bcbf5de",
   "metadata": {},
   "outputs": [],
   "source": [
    "# Handle missing prices\n",
    "sales_df = sales_df.merge(products_df[['product_id', 'unit_price']], \n",
    "                         on='product_id', how='left', suffixes=('', '_default'))"
   ]
  },
  {
   "cell_type": "code",
   "execution_count": 68,
   "id": "b465bd07-2952-495c-9b14-6dc951af7acb",
   "metadata": {},
   "outputs": [],
   "source": [
    "# Fill missing unit_price with default\n",
    "sales_df['unit_price'] = sales_df['unit_price'].fillna(sales_df['unit_price_default'])\n"
   ]
  },
  {
   "cell_type": "code",
   "execution_count": 69,
   "id": "c5b58dcb-35a7-4ade-a386-1ff74593d191",
   "metadata": {},
   "outputs": [],
   "source": [
    "sales_df = sales_df.drop('unit_price_default', axis=1)"
   ]
  },
  {
   "cell_type": "code",
   "execution_count": 70,
   "id": "63476ff5-667d-40e9-9fe5-9bcb083fb86b",
   "metadata": {},
   "outputs": [],
   "source": [
    "#For revenue column we can just re calculate where the missing cells exist\n",
    "sales_df['total_revenue'] = sales_df['total_revenue'].fillna(\n",
    "    sales_df['sales_quantity'] * sales_df['unit_price']\n",
    ")"
   ]
  },
  {
   "cell_type": "code",
   "execution_count": 71,
   "id": "7c06748f-497e-4426-be41-d8fee64d8902",
   "metadata": {},
   "outputs": [],
   "source": [
    "# Remove duplicates\n",
    "sales_df = sales_df.drop_duplicates(subset=['transaction_id'])"
   ]
  },
  {
   "cell_type": "code",
   "execution_count": 72,
   "id": "2da18ca7-b890-4361-9b7a-1045076fd8c6",
   "metadata": {},
   "outputs": [
    {
     "name": "stdout",
     "output_type": "stream",
     "text": [
      "After cleaning: 31696 rows\n"
     ]
    }
   ],
   "source": [
    "print(f\"After cleaning: {len(sales_df)} rows\")"
   ]
  },
  {
   "cell_type": "code",
   "execution_count": 75,
   "id": "0d02c4b7-e69e-426d-ad86-cce830c4f394",
   "metadata": {},
   "outputs": [
    {
     "name": "stdout",
     "output_type": "stream",
     "text": [
      "Removed: 8774 bad records\n"
     ]
    }
   ],
   "source": [
    "print(f\"Removed: {len(pd.read_csv('data/sales_transactions.csv')) - len(sales_df)} bad records\")\n"
   ]
  },
  {
   "cell_type": "markdown",
   "id": "33f25870-af29-42f3-820c-83465ca47dee",
   "metadata": {},
   "source": [
    "# INVENTORY DATA CLEANING  \n"
   ]
  },
  {
   "cell_type": "code",
   "execution_count": 76,
   "id": "31d86de4-647f-4000-924c-5380121397ab",
   "metadata": {},
   "outputs": [
    {
     "data": {
      "text/html": [
       "<div>\n",
       "<style scoped>\n",
       "    .dataframe tbody tr th:only-of-type {\n",
       "        vertical-align: middle;\n",
       "    }\n",
       "\n",
       "    .dataframe tbody tr th {\n",
       "        vertical-align: top;\n",
       "    }\n",
       "\n",
       "    .dataframe thead th {\n",
       "        text-align: right;\n",
       "    }\n",
       "</style>\n",
       "<table border=\"1\" class=\"dataframe\">\n",
       "  <thead>\n",
       "    <tr style=\"text-align: right;\">\n",
       "      <th></th>\n",
       "      <th>store_id</th>\n",
       "      <th>product_id</th>\n",
       "      <th>snapshot_date</th>\n",
       "      <th>current_stock</th>\n",
       "      <th>reorder_point</th>\n",
       "      <th>max_stock_level</th>\n",
       "      <th>supplier_lead_time</th>\n",
       "      <th>last_reorder_date</th>\n",
       "    </tr>\n",
       "  </thead>\n",
       "  <tbody>\n",
       "    <tr>\n",
       "      <th>0</th>\n",
       "      <td>ST001</td>\n",
       "      <td>P002</td>\n",
       "      <td>2022-01-02</td>\n",
       "      <td>NaN</td>\n",
       "      <td>100</td>\n",
       "      <td>403</td>\n",
       "      <td>7</td>\n",
       "      <td>2021-12-29</td>\n",
       "    </tr>\n",
       "    <tr>\n",
       "      <th>1</th>\n",
       "      <td>ST001</td>\n",
       "      <td>P015</td>\n",
       "      <td>2022-01-02</td>\n",
       "      <td>221.0</td>\n",
       "      <td>237</td>\n",
       "      <td>951</td>\n",
       "      <td>3</td>\n",
       "      <td>2021-12-04</td>\n",
       "    </tr>\n",
       "    <tr>\n",
       "      <th>2</th>\n",
       "      <td>ST001</td>\n",
       "      <td>P016</td>\n",
       "      <td>2022-01-02</td>\n",
       "      <td>25.0</td>\n",
       "      <td>31</td>\n",
       "      <td>125</td>\n",
       "      <td>5</td>\n",
       "      <td>2021-12-17</td>\n",
       "    </tr>\n",
       "    <tr>\n",
       "      <th>3</th>\n",
       "      <td>ST001</td>\n",
       "      <td>P018</td>\n",
       "      <td>2022-01-02</td>\n",
       "      <td>15.0</td>\n",
       "      <td>88</td>\n",
       "      <td>353</td>\n",
       "      <td>14</td>\n",
       "      <td>2021-12-06</td>\n",
       "    </tr>\n",
       "    <tr>\n",
       "      <th>4</th>\n",
       "      <td>ST001</td>\n",
       "      <td>P019</td>\n",
       "      <td>2022-01-02</td>\n",
       "      <td>200.0</td>\n",
       "      <td>193</td>\n",
       "      <td>775</td>\n",
       "      <td>3</td>\n",
       "      <td>2022-01-01</td>\n",
       "    </tr>\n",
       "  </tbody>\n",
       "</table>\n",
       "</div>"
      ],
      "text/plain": [
       "  store_id product_id snapshot_date  current_stock  reorder_point  \\\n",
       "0    ST001       P002    2022-01-02            NaN            100   \n",
       "1    ST001       P015    2022-01-02          221.0            237   \n",
       "2    ST001       P016    2022-01-02           25.0             31   \n",
       "3    ST001       P018    2022-01-02           15.0             88   \n",
       "4    ST001       P019    2022-01-02          200.0            193   \n",
       "\n",
       "   max_stock_level  supplier_lead_time last_reorder_date  \n",
       "0              403                   7        2021-12-29  \n",
       "1              951                   3        2021-12-04  \n",
       "2              125                   5        2021-12-17  \n",
       "3              353                  14        2021-12-06  \n",
       "4              775                   3        2022-01-01  "
      ]
     },
     "execution_count": 76,
     "metadata": {},
     "output_type": "execute_result"
    }
   ],
   "source": [
    "inventory_df.head()"
   ]
  },
  {
   "cell_type": "code",
   "execution_count": 79,
   "id": "395cc904-44c4-455a-a880-ec1036e0956b",
   "metadata": {},
   "outputs": [
    {
     "name": "stdout",
     "output_type": "stream",
     "text": [
      "<class 'pandas.core.frame.DataFrame'>\n",
      "RangeIndex: 8343 entries, 0 to 8342\n",
      "Data columns (total 8 columns):\n",
      " #   Column              Non-Null Count  Dtype  \n",
      "---  ------              --------------  -----  \n",
      " 0   store_id            8343 non-null   object \n",
      " 1   product_id          8343 non-null   object \n",
      " 2   snapshot_date       8343 non-null   object \n",
      " 3   current_stock       7523 non-null   float64\n",
      " 4   reorder_point       8343 non-null   int64  \n",
      " 5   max_stock_level     8343 non-null   int64  \n",
      " 6   supplier_lead_time  8343 non-null   int64  \n",
      " 7   last_reorder_date   8343 non-null   object \n",
      "dtypes: float64(1), int64(3), object(4)\n",
      "memory usage: 521.6+ KB\n"
     ]
    }
   ],
   "source": [
    "inventory_df.info()"
   ]
  },
  {
   "cell_type": "code",
   "execution_count": 83,
   "id": "26a3d1c1-5063-407a-a65c-1f43fd719360",
   "metadata": {},
   "outputs": [
    {
     "data": {
      "text/html": [
       "<div>\n",
       "<style scoped>\n",
       "    .dataframe tbody tr th:only-of-type {\n",
       "        vertical-align: middle;\n",
       "    }\n",
       "\n",
       "    .dataframe tbody tr th {\n",
       "        vertical-align: top;\n",
       "    }\n",
       "\n",
       "    .dataframe thead th {\n",
       "        text-align: right;\n",
       "    }\n",
       "</style>\n",
       "<table border=\"1\" class=\"dataframe\">\n",
       "  <thead>\n",
       "    <tr style=\"text-align: right;\">\n",
       "      <th></th>\n",
       "      <th>current_stock</th>\n",
       "      <th>reorder_point</th>\n",
       "      <th>max_stock_level</th>\n",
       "      <th>supplier_lead_time</th>\n",
       "    </tr>\n",
       "  </thead>\n",
       "  <tbody>\n",
       "    <tr>\n",
       "      <th>count</th>\n",
       "      <td>7523.000000</td>\n",
       "      <td>8343.000000</td>\n",
       "      <td>8343.000000</td>\n",
       "      <td>8343.000000</td>\n",
       "    </tr>\n",
       "    <tr>\n",
       "      <th>mean</th>\n",
       "      <td>204.726306</td>\n",
       "      <td>146.341843</td>\n",
       "      <td>622.131008</td>\n",
       "      <td>6.018578</td>\n",
       "    </tr>\n",
       "    <tr>\n",
       "      <th>std</th>\n",
       "      <td>173.573330</td>\n",
       "      <td>88.364997</td>\n",
       "      <td>329.845193</td>\n",
       "      <td>4.466747</td>\n",
       "    </tr>\n",
       "    <tr>\n",
       "      <th>min</th>\n",
       "      <td>0.000000</td>\n",
       "      <td>-10.000000</td>\n",
       "      <td>60.000000</td>\n",
       "      <td>1.000000</td>\n",
       "    </tr>\n",
       "    <tr>\n",
       "      <th>25%</th>\n",
       "      <td>63.000000</td>\n",
       "      <td>71.000000</td>\n",
       "      <td>338.000000</td>\n",
       "      <td>3.000000</td>\n",
       "    </tr>\n",
       "    <tr>\n",
       "      <th>50%</th>\n",
       "      <td>154.000000</td>\n",
       "      <td>147.000000</td>\n",
       "      <td>619.000000</td>\n",
       "      <td>5.000000</td>\n",
       "    </tr>\n",
       "    <tr>\n",
       "      <th>75%</th>\n",
       "      <td>308.000000</td>\n",
       "      <td>222.000000</td>\n",
       "      <td>911.000000</td>\n",
       "      <td>7.000000</td>\n",
       "    </tr>\n",
       "    <tr>\n",
       "      <th>max</th>\n",
       "      <td>792.000000</td>\n",
       "      <td>299.000000</td>\n",
       "      <td>1199.000000</td>\n",
       "      <td>14.000000</td>\n",
       "    </tr>\n",
       "  </tbody>\n",
       "</table>\n",
       "</div>"
      ],
      "text/plain": [
       "       current_stock  reorder_point  max_stock_level  supplier_lead_time\n",
       "count    7523.000000    8343.000000      8343.000000         8343.000000\n",
       "mean      204.726306     146.341843       622.131008            6.018578\n",
       "std       173.573330      88.364997       329.845193            4.466747\n",
       "min         0.000000     -10.000000        60.000000            1.000000\n",
       "25%        63.000000      71.000000       338.000000            3.000000\n",
       "50%       154.000000     147.000000       619.000000            5.000000\n",
       "75%       308.000000     222.000000       911.000000            7.000000\n",
       "max       792.000000     299.000000      1199.000000           14.000000"
      ]
     },
     "execution_count": 83,
     "metadata": {},
     "output_type": "execute_result"
    }
   ],
   "source": [
    "inventory_df.describe()"
   ]
  },
  {
   "cell_type": "code",
   "execution_count": 86,
   "id": "8426d37f-ce39-4a5a-8e64-bbca30c99e19",
   "metadata": {},
   "outputs": [],
   "source": [
    "inventory_df['snapshot_date'] = pd.to_datetime(inventory_df['snapshot_date'])\n",
    "inventory_df['last_reorder_date'] = pd.to_datetime(inventory_df['last_reorder_date'])\n"
   ]
  },
  {
   "cell_type": "code",
   "execution_count": 87,
   "id": "38582476-6897-4d11-9df1-08517a8d61e0",
   "metadata": {},
   "outputs": [],
   "source": [
    "# Fix negative reorder points\n",
    "inventory_df.loc[inventory_df['reorder_point'] < 0, 'reorder_point'] = 0"
   ]
  },
  {
   "cell_type": "code",
   "execution_count": 88,
   "id": "be48332a-d832-40ad-bcab-93a91586a1fa",
   "metadata": {},
   "outputs": [],
   "source": [
    "# Fill missing current_stock with 0 (assume empty)\n",
    "inventory_df['current_stock'] = inventory_df['current_stock'].fillna(0)"
   ]
  },
  {
   "cell_type": "code",
   "execution_count": 89,
   "id": "433e0066-a253-426e-869b-f193c5e92c4f",
   "metadata": {},
   "outputs": [],
   "source": [
    "# Remove impossible values\n",
    "inventory_df = inventory_df[inventory_df['supplier_lead_time'] <= 30]"
   ]
  },
  {
   "cell_type": "code",
   "execution_count": 90,
   "id": "79feacd5-975c-451e-bc1b-4841a605b4e3",
   "metadata": {},
   "outputs": [
    {
     "name": "stdout",
     "output_type": "stream",
     "text": [
      "Inventory cleaned: 8343 records\n"
     ]
    }
   ],
   "source": [
    "print(f\"Inventory cleaned: {len(inventory_df)} records\")"
   ]
  },
  {
   "cell_type": "markdown",
   "id": "274d7e03-b18a-4ace-90f0-c295fff2d10b",
   "metadata": {},
   "source": [
    "# EXTERNAL DATA CLEANING"
   ]
  },
  {
   "cell_type": "code",
   "execution_count": 91,
   "id": "c738b6fc-3d37-4015-9ab6-532856953d49",
   "metadata": {},
   "outputs": [
    {
     "data": {
      "text/html": [
       "<div>\n",
       "<style scoped>\n",
       "    .dataframe tbody tr th:only-of-type {\n",
       "        vertical-align: middle;\n",
       "    }\n",
       "\n",
       "    .dataframe tbody tr th {\n",
       "        vertical-align: top;\n",
       "    }\n",
       "\n",
       "    .dataframe thead th {\n",
       "        text-align: right;\n",
       "    }\n",
       "</style>\n",
       "<table border=\"1\" class=\"dataframe\">\n",
       "  <thead>\n",
       "    <tr style=\"text-align: right;\">\n",
       "      <th></th>\n",
       "      <th>date</th>\n",
       "      <th>city</th>\n",
       "      <th>temperature</th>\n",
       "      <th>precipitation</th>\n",
       "      <th>is_weekend</th>\n",
       "      <th>day_of_week</th>\n",
       "      <th>month</th>\n",
       "      <th>quarter</th>\n",
       "      <th>competitor_promotion</th>\n",
       "      <th>local_event</th>\n",
       "    </tr>\n",
       "  </thead>\n",
       "  <tbody>\n",
       "    <tr>\n",
       "      <th>0</th>\n",
       "      <td>2022-01-01</td>\n",
       "      <td>Boston</td>\n",
       "      <td>41.8</td>\n",
       "      <td>0.04</td>\n",
       "      <td>True</td>\n",
       "      <td>Saturday</td>\n",
       "      <td>1</td>\n",
       "      <td>1</td>\n",
       "      <td>False</td>\n",
       "      <td>False</td>\n",
       "    </tr>\n",
       "    <tr>\n",
       "      <th>1</th>\n",
       "      <td>2022-01-01</td>\n",
       "      <td>Austin</td>\n",
       "      <td>86.4</td>\n",
       "      <td>0.04</td>\n",
       "      <td>True</td>\n",
       "      <td>Saturday</td>\n",
       "      <td>1</td>\n",
       "      <td>1</td>\n",
       "      <td>False</td>\n",
       "      <td>False</td>\n",
       "    </tr>\n",
       "    <tr>\n",
       "      <th>2</th>\n",
       "      <td>2022-01-01</td>\n",
       "      <td>Seattle</td>\n",
       "      <td>56.5</td>\n",
       "      <td>0.11</td>\n",
       "      <td>True</td>\n",
       "      <td>Saturday</td>\n",
       "      <td>1</td>\n",
       "      <td>1</td>\n",
       "      <td>False</td>\n",
       "      <td>False</td>\n",
       "    </tr>\n",
       "    <tr>\n",
       "      <th>3</th>\n",
       "      <td>2022-01-01</td>\n",
       "      <td>Denver</td>\n",
       "      <td>31.7</td>\n",
       "      <td>0.11</td>\n",
       "      <td>True</td>\n",
       "      <td>Saturday</td>\n",
       "      <td>1</td>\n",
       "      <td>1</td>\n",
       "      <td>False</td>\n",
       "      <td>False</td>\n",
       "    </tr>\n",
       "    <tr>\n",
       "      <th>4</th>\n",
       "      <td>2022-01-01</td>\n",
       "      <td>Chicago</td>\n",
       "      <td>69.8</td>\n",
       "      <td>0.01</td>\n",
       "      <td>True</td>\n",
       "      <td>Saturday</td>\n",
       "      <td>1</td>\n",
       "      <td>1</td>\n",
       "      <td>False</td>\n",
       "      <td>False</td>\n",
       "    </tr>\n",
       "    <tr>\n",
       "      <th>...</th>\n",
       "      <td>...</td>\n",
       "      <td>...</td>\n",
       "      <td>...</td>\n",
       "      <td>...</td>\n",
       "      <td>...</td>\n",
       "      <td>...</td>\n",
       "      <td>...</td>\n",
       "      <td>...</td>\n",
       "      <td>...</td>\n",
       "      <td>...</td>\n",
       "    </tr>\n",
       "    <tr>\n",
       "      <th>3650</th>\n",
       "      <td>2024-01-01</td>\n",
       "      <td>Boston</td>\n",
       "      <td>54.2</td>\n",
       "      <td>0.07</td>\n",
       "      <td>False</td>\n",
       "      <td>Monday</td>\n",
       "      <td>1</td>\n",
       "      <td>1</td>\n",
       "      <td>True</td>\n",
       "      <td>False</td>\n",
       "    </tr>\n",
       "    <tr>\n",
       "      <th>3651</th>\n",
       "      <td>2024-01-01</td>\n",
       "      <td>Austin</td>\n",
       "      <td>86.2</td>\n",
       "      <td>0.02</td>\n",
       "      <td>False</td>\n",
       "      <td>Monday</td>\n",
       "      <td>1</td>\n",
       "      <td>1</td>\n",
       "      <td>True</td>\n",
       "      <td>False</td>\n",
       "    </tr>\n",
       "    <tr>\n",
       "      <th>3652</th>\n",
       "      <td>2024-01-01</td>\n",
       "      <td>Seattle</td>\n",
       "      <td>50.8</td>\n",
       "      <td>0.06</td>\n",
       "      <td>False</td>\n",
       "      <td>Monday</td>\n",
       "      <td>1</td>\n",
       "      <td>1</td>\n",
       "      <td>False</td>\n",
       "      <td>False</td>\n",
       "    </tr>\n",
       "    <tr>\n",
       "      <th>3653</th>\n",
       "      <td>2024-01-01</td>\n",
       "      <td>Denver</td>\n",
       "      <td>83.9</td>\n",
       "      <td>0.05</td>\n",
       "      <td>False</td>\n",
       "      <td>Monday</td>\n",
       "      <td>1</td>\n",
       "      <td>1</td>\n",
       "      <td>False</td>\n",
       "      <td>False</td>\n",
       "    </tr>\n",
       "    <tr>\n",
       "      <th>3654</th>\n",
       "      <td>2024-01-01</td>\n",
       "      <td>Chicago</td>\n",
       "      <td>NaN</td>\n",
       "      <td>0.07</td>\n",
       "      <td>False</td>\n",
       "      <td>Monday</td>\n",
       "      <td>1</td>\n",
       "      <td>1</td>\n",
       "      <td>False</td>\n",
       "      <td>False</td>\n",
       "    </tr>\n",
       "  </tbody>\n",
       "</table>\n",
       "<p>3655 rows × 10 columns</p>\n",
       "</div>"
      ],
      "text/plain": [
       "            date     city  temperature  precipitation  is_weekend day_of_week  \\\n",
       "0     2022-01-01   Boston         41.8           0.04        True    Saturday   \n",
       "1     2022-01-01   Austin         86.4           0.04        True    Saturday   \n",
       "2     2022-01-01  Seattle         56.5           0.11        True    Saturday   \n",
       "3     2022-01-01   Denver         31.7           0.11        True    Saturday   \n",
       "4     2022-01-01  Chicago         69.8           0.01        True    Saturday   \n",
       "...          ...      ...          ...            ...         ...         ...   \n",
       "3650  2024-01-01   Boston         54.2           0.07       False      Monday   \n",
       "3651  2024-01-01   Austin         86.2           0.02       False      Monday   \n",
       "3652  2024-01-01  Seattle         50.8           0.06       False      Monday   \n",
       "3653  2024-01-01   Denver         83.9           0.05       False      Monday   \n",
       "3654  2024-01-01  Chicago          NaN           0.07       False      Monday   \n",
       "\n",
       "      month  quarter  competitor_promotion  local_event  \n",
       "0         1        1                 False        False  \n",
       "1         1        1                 False        False  \n",
       "2         1        1                 False        False  \n",
       "3         1        1                 False        False  \n",
       "4         1        1                 False        False  \n",
       "...     ...      ...                   ...          ...  \n",
       "3650      1        1                  True        False  \n",
       "3651      1        1                  True        False  \n",
       "3652      1        1                 False        False  \n",
       "3653      1        1                 False        False  \n",
       "3654      1        1                 False        False  \n",
       "\n",
       "[3655 rows x 10 columns]"
      ]
     },
     "execution_count": 91,
     "metadata": {},
     "output_type": "execute_result"
    }
   ],
   "source": [
    "external_df"
   ]
  },
  {
   "cell_type": "code",
   "execution_count": 92,
   "id": "b68f2b44-8743-4539-b8e2-1a1bd41e19a0",
   "metadata": {},
   "outputs": [
    {
     "data": {
      "text/html": [
       "<div>\n",
       "<style scoped>\n",
       "    .dataframe tbody tr th:only-of-type {\n",
       "        vertical-align: middle;\n",
       "    }\n",
       "\n",
       "    .dataframe tbody tr th {\n",
       "        vertical-align: top;\n",
       "    }\n",
       "\n",
       "    .dataframe thead th {\n",
       "        text-align: right;\n",
       "    }\n",
       "</style>\n",
       "<table border=\"1\" class=\"dataframe\">\n",
       "  <thead>\n",
       "    <tr style=\"text-align: right;\">\n",
       "      <th></th>\n",
       "      <th>temperature</th>\n",
       "      <th>precipitation</th>\n",
       "      <th>month</th>\n",
       "      <th>quarter</th>\n",
       "    </tr>\n",
       "  </thead>\n",
       "  <tbody>\n",
       "    <tr>\n",
       "      <th>count</th>\n",
       "      <td>3330.000000</td>\n",
       "      <td>3655.000000</td>\n",
       "      <td>3655.000000</td>\n",
       "      <td>3655.000000</td>\n",
       "    </tr>\n",
       "    <tr>\n",
       "      <th>mean</th>\n",
       "      <td>65.246667</td>\n",
       "      <td>0.096733</td>\n",
       "      <td>6.518468</td>\n",
       "      <td>2.507524</td>\n",
       "    </tr>\n",
       "    <tr>\n",
       "      <th>std</th>\n",
       "      <td>20.256545</td>\n",
       "      <td>0.096323</td>\n",
       "      <td>3.452013</td>\n",
       "      <td>1.117550</td>\n",
       "    </tr>\n",
       "    <tr>\n",
       "      <th>min</th>\n",
       "      <td>-12.700000</td>\n",
       "      <td>0.000000</td>\n",
       "      <td>1.000000</td>\n",
       "      <td>1.000000</td>\n",
       "    </tr>\n",
       "    <tr>\n",
       "      <th>25%</th>\n",
       "      <td>51.900000</td>\n",
       "      <td>0.030000</td>\n",
       "      <td>4.000000</td>\n",
       "      <td>2.000000</td>\n",
       "    </tr>\n",
       "    <tr>\n",
       "      <th>50%</th>\n",
       "      <td>65.250000</td>\n",
       "      <td>0.070000</td>\n",
       "      <td>7.000000</td>\n",
       "      <td>3.000000</td>\n",
       "    </tr>\n",
       "    <tr>\n",
       "      <th>75%</th>\n",
       "      <td>78.600000</td>\n",
       "      <td>0.130000</td>\n",
       "      <td>10.000000</td>\n",
       "      <td>4.000000</td>\n",
       "    </tr>\n",
       "    <tr>\n",
       "      <th>max</th>\n",
       "      <td>131.900000</td>\n",
       "      <td>0.860000</td>\n",
       "      <td>12.000000</td>\n",
       "      <td>4.000000</td>\n",
       "    </tr>\n",
       "  </tbody>\n",
       "</table>\n",
       "</div>"
      ],
      "text/plain": [
       "       temperature  precipitation        month      quarter\n",
       "count  3330.000000    3655.000000  3655.000000  3655.000000\n",
       "mean     65.246667       0.096733     6.518468     2.507524\n",
       "std      20.256545       0.096323     3.452013     1.117550\n",
       "min     -12.700000       0.000000     1.000000     1.000000\n",
       "25%      51.900000       0.030000     4.000000     2.000000\n",
       "50%      65.250000       0.070000     7.000000     3.000000\n",
       "75%      78.600000       0.130000    10.000000     4.000000\n",
       "max     131.900000       0.860000    12.000000     4.000000"
      ]
     },
     "execution_count": 92,
     "metadata": {},
     "output_type": "execute_result"
    }
   ],
   "source": [
    "external_df.describe()"
   ]
  },
  {
   "cell_type": "code",
   "execution_count": 93,
   "id": "f38e1d20-df08-4522-97ae-734d7191229e",
   "metadata": {},
   "outputs": [
    {
     "name": "stdout",
     "output_type": "stream",
     "text": [
      "<class 'pandas.core.frame.DataFrame'>\n",
      "RangeIndex: 3655 entries, 0 to 3654\n",
      "Data columns (total 10 columns):\n",
      " #   Column                Non-Null Count  Dtype  \n",
      "---  ------                --------------  -----  \n",
      " 0   date                  3655 non-null   object \n",
      " 1   city                  3655 non-null   object \n",
      " 2   temperature           3330 non-null   float64\n",
      " 3   precipitation         3655 non-null   float64\n",
      " 4   is_weekend            3655 non-null   bool   \n",
      " 5   day_of_week           3655 non-null   object \n",
      " 6   month                 3655 non-null   int64  \n",
      " 7   quarter               3655 non-null   int64  \n",
      " 8   competitor_promotion  3655 non-null   bool   \n",
      " 9   local_event           3655 non-null   bool   \n",
      "dtypes: bool(3), float64(2), int64(2), object(3)\n",
      "memory usage: 210.7+ KB\n"
     ]
    }
   ],
   "source": [
    "external_df.info()"
   ]
  },
  {
   "cell_type": "code",
   "execution_count": 95,
   "id": "f98f9979-6225-4b2e-9bc9-a6ab36c9bbde",
   "metadata": {},
   "outputs": [],
   "source": [
    "#Fixing date column datetype\n",
    "external_df['date'] = pd.to_datetime(external_df['date'])"
   ]
  },
  {
   "cell_type": "code",
   "execution_count": 96,
   "id": "15e21864-599f-466d-8de6-fc8e8f329042",
   "metadata": {},
   "outputs": [],
   "source": [
    "# Fix temperature (remove impossible values)\n",
    "external_df = external_df[(external_df['temperature'] >= -20) & \n",
    "                         (external_df['temperature'] <= 120)]"
   ]
  },
  {
   "cell_type": "code",
   "execution_count": 97,
   "id": "8afad8dc-7007-4b1e-adfd-e63e3c7d28b7",
   "metadata": {},
   "outputs": [],
   "source": [
    "# Fill missing temperature with city average\n",
    "temp_avg = external_df.groupby('city')['temperature'].mean()\n",
    "for city in external_df['city'].unique():\n",
    "    mask = (external_df['city'] == city) & (external_df['temperature'].isnull())\n",
    "    external_df.loc[mask, 'temperature'] = temp_avg[city]"
   ]
  },
  {
   "cell_type": "code",
   "execution_count": 98,
   "id": "fabeca41-982f-4965-9760-1d77e5e9fe5c",
   "metadata": {},
   "outputs": [],
   "source": [
    "# Standardize day_of_week format\n",
    "external_df['day_of_week'] = external_df['day_of_week'].str.title()\n",
    "day_mapping = {'Mon': 'Monday', 'Tue': 'Tuesday', 'Wed': 'Wednesday', \n",
    "               'Thu': 'Thursday', 'Fri': 'Friday', 'Sat': 'Saturday', 'Sun': 'Sunday'}\n",
    "external_df['day_of_week'] = external_df['day_of_week'].replace(day_mapping)"
   ]
  },
  {
   "cell_type": "code",
   "execution_count": 100,
   "id": "95e55c96-3951-4d2c-a845-7a028c2eb031",
   "metadata": {},
   "outputs": [
    {
     "name": "stdout",
     "output_type": "stream",
     "text": [
      "External data cleaned: 3320 records\n"
     ]
    }
   ],
   "source": [
    "print(f\"External data cleaned: {len(external_df)} records\")"
   ]
  },
  {
   "cell_type": "markdown",
   "id": "9b9bc9e8-5fa0-4968-acf3-e877c6b64d46",
   "metadata": {},
   "source": [
    "# KEY BUSINESS INSIGHTS FROM CLEAN DATA"
   ]
  },
  {
   "cell_type": "markdown",
   "id": "063f97b0-91a2-405c-8c0d-d3ba9e1f4e5a",
   "metadata": {},
   "source": [
    "## Daily sales trend"
   ]
  },
  {
   "cell_type": "code",
   "execution_count": 139,
   "id": "13062999-963d-467e-905b-4ebcb8587fe7",
   "metadata": {},
   "outputs": [
    {
     "data": {
      "image/png": "[encoded data removed]",
      "text/plain": [
       "<Figure size 800x400 with 1 Axes>"
      ]
     },
     "metadata": {},
     "output_type": "display_data"
    }
   ],
   "source": [
    "import matplotlib.pyplot as plt\n",
    "\n",
    "# Group by date and sum sales\n",
    "daily_sales = sales_df.groupby('date')['sales_quantity'].sum()\n",
    "\n",
    "# Plot\n",
    "plt.figure(figsize=(8, 4))\n",
    "daily_sales.plot()\n",
    "plt.title('Daily Sales Trend')\n",
    "plt.xlabel('Date')\n",
    "plt.ylabel('Units Sold')\n",
    "plt.tight_layout()\n",
    "plt.show()\n"
   ]
  },
  {
   "cell_type": "markdown",
   "id": "b0730655-1b0e-432c-9c50-3013930da7d1",
   "metadata": {},
   "source": [
    "## Sales by store type"
   ]
  },
  {
   "cell_type": "code",
   "execution_count": 145,
   "id": "fe8ff4a4-07ba-42b4-be27-51d7f5571d1b",
   "metadata": {},
   "outputs": [
    {
     "data": {
      "image/png": "[encoded data removed]",
      "text/plain": [
       "<Figure size 800x400 with 1 Axes>"
      ]
     },
     "metadata": {},
     "output_type": "display_data"
    }
   ],
   "source": [
    "# Merge sales with store info\n",
    "store_sales = sales_df.merge(stores_df, on='store_id')\n",
    "\n",
    "# Group by store type and sum revenue\n",
    "store_type_sales = store_sales.groupby('type')['total_revenue'].sum()\n",
    "\n",
    "# Plot\n",
    "plt.figure(figsize=(8, 4))\n",
    "store_type_sales.plot(kind='bar')\n",
    "plt.title('Revenue by Store Type')\n",
    "plt.ylabel('Revenue ($)')\n",
    "plt.xlabel('Store Type')\n",
    "plt.tight_layout()\n",
    "plt.show()\n"
   ]
  },
  {
   "cell_type": "markdown",
   "id": "298cadda-e77a-4306-a170-f12b0de5e020",
   "metadata": {},
   "source": [
    "## Top products by revenue"
   ]
  },
  {
   "cell_type": "code",
   "execution_count": 125,
   "id": "eaadcc6f-f39e-436e-b432-47840732fcff",
   "metadata": {},
   "outputs": [
    {
     "data": {
      "image/png": "[encoded data removed]",
      "text/plain": [
       "<Figure size 800x400 with 1 Axes>"
      ]
     },
     "metadata": {},
     "output_type": "display_data"
    }
   ],
   "source": [
    "# Merge sales with product info\n",
    "product_revenue = sales_df.merge(products_df, on='product_id')\n",
    "\n",
    "# Group by product name and get top 10 by revenue\n",
    "top_products = product_revenue.groupby('name')['total_revenue'].sum().nlargest(10)\n",
    "\n",
    "# Plot\n",
    "plt.figure(figsize=(8, 4))\n",
    "top_products.plot(kind='barh')\n",
    "plt.title('Top 10 Products by Revenue')\n",
    "plt.xlabel('Revenue ($)')\n",
    "plt.ylabel('Product Name')\n",
    "plt.tight_layout()\n",
    "plt.show()\n"
   ]
  },
  {
   "cell_type": "markdown",
   "id": "7f7f72e3-d4e7-4639-9c64-99c75bcd3f8d",
   "metadata": {},
   "source": [
    "## Seasonal patterns"
   ]
  },
  {
   "cell_type": "code",
   "execution_count": 128,
   "id": "547d6e9f-ffc4-4b8a-9da8-739185e293b2",
   "metadata": {},
   "outputs": [
    {
     "data": {
      "image/png": "[encoded data removed]",
      "text/plain": [
       "<Figure size 800x400 with 1 Axes>"
      ]
     },
     "metadata": {},
     "output_type": "display_data"
    }
   ],
   "source": [
    "# Extract month from date\n",
    "sales_df['month'] = sales_df['date'].dt.month\n",
    "\n",
    "# Group by month and calculate average daily sales\n",
    "monthly_sales = sales_df.groupby('month')['sales_quantity'].mean()\n",
    "\n",
    "# Plot\n",
    "plt.figure(figsize=(8, 4))\n",
    "monthly_sales.plot(kind='bar')\n",
    "plt.title('Average Daily Sales by Month')\n",
    "plt.xlabel('Month')\n",
    "plt.ylabel('Average Units Sold')\n",
    "plt.tight_layout()\n",
    "plt.show()\n"
   ]
  },
  {
   "cell_type": "markdown",
   "id": "d3cddfb6-ce86-4798-8fda-196aab4a2cbb",
   "metadata": {},
   "source": [
    "## Weekday patterns "
   ]
  },
  {
   "cell_type": "code",
   "execution_count": 132,
   "id": "1e5d3571-c289-4c93-a268-b548e9183c09",
   "metadata": {},
   "outputs": [
    {
     "data": {
      "image/png": "[encoded data removed]",
      "text/plain": [
       "<Figure size 800x400 with 1 Axes>"
      ]
     },
     "metadata": {},
     "output_type": "display_data"
    }
   ],
   "source": [
    "# Extract day name from date\n",
    "sales_df['day_of_week'] = sales_df['date'].dt.day_name()\n",
    "\n",
    "# Group by day of week and calculate average sales\n",
    "weekday_sales = sales_df.groupby('day_of_week')['sales_quantity'].mean()\n",
    "\n",
    "# Ensure correct weekday order\n",
    "weekday_order = ['Monday', 'Tuesday', 'Wednesday', 'Thursday', 'Friday', 'Saturday', 'Sunday']\n",
    "weekday_sales = weekday_sales.reindex(weekday_order)\n",
    "\n",
    "# Plot\n",
    "plt.figure(figsize=(8, 4))\n",
    "weekday_sales.plot(kind='bar')\n",
    "plt.title('Average Sales by Day of Week')\n",
    "plt.xlabel('Day of Week')\n",
    "plt.ylabel('Average Units Sold')\n",
    "plt.tight_layout()\n",
    "plt.show()\n"
   ]
  },
  {
   "cell_type": "markdown",
   "id": "b9d8e206-8d81-4007-bc15-0ff93599999f",
   "metadata": {},
   "source": [
    "## Stock level distribution"
   ]
  },
  {
   "cell_type": "code",
   "execution_count": 141,
   "id": "a0454b3e-f500-4e1e-8643-336ac58ff595",
   "metadata": {},
   "outputs": [
    {
     "data": {
      "image/png": "[encoded data removed]",
      "text/plain": [
       "<Figure size 800x400 with 1 Axes>"
      ]
     },
     "metadata": {},
     "output_type": "display_data"
    }
   ],
   "source": [
    "# Plot histogram of current stock levels\n",
    "plt.figure(figsize=(8, 4))\n",
    "inventory_df['current_stock'].hist(bins=30, edgecolor='black')\n",
    "plt.title('Stock Level Distribution')\n",
    "plt.xlabel('Stock Level')\n",
    "plt.ylabel('Frequency')\n",
    "plt.tight_layout()\n",
    "plt.show()\n"
   ]
  },
  {
   "cell_type": "code",
   "execution_count": 149,
   "id": "a145ca7f-43a3-4606-979f-d7ae16fc4f12",
   "metadata": {},
   "outputs": [
    {
     "name": "stdout",
     "output_type": "stream",
     "text": [
      "\n",
      "KEY FINDINGS:\n",
      "• Peak sales month: 12 (avg 7.6 units/day)\n",
      "• Best sales day: Saturday (avg 7.9 units)\n",
      "• Top store type: grocery ($12,656,005 revenue)\n",
      "• Average stock level: 184.6 units\n"
     ]
    }
   ],
   "source": [
    "# Print key insights\n",
    "print(\"\\nKEY FINDINGS:\")\n",
    "print(f\"• Peak sales month: {monthly_sales.idxmax()} (avg {monthly_sales.max():.1f} units/day)\")\n",
    "print(f\"• Best sales day: {weekday_sales.idxmax()} (avg {weekday_sales.max():.1f} units)\")\n",
    "print(f\"• Top store type: {store_type_sales.idxmax()} (${store_type_sales.max():,.0f} revenue)\")\n",
    "print(f\"• Average stock level: {inventory_df['current_stock'].mean():.1f} units\")"
   ]
  },
  {
   "cell_type": "code",
   "execution_count": null,
   "id": "d6265349-4250-4298-947b-a2e03f0f992d",
   "metadata": {},
   "outputs": [],
   "source": []
  },
  {
   "cell_type": "code",
   "execution_count": null,
   "id": "691b6600-67de-4f71-84ca-0df833bd2e11",
   "metadata": {},
   "outputs": [],
   "source": []
  },
  {
   "cell_type": "code",
   "execution_count": null,
   "id": "de258d9d-5cfa-450b-8ef7-de3ca1176ad0",
   "metadata": {},
   "outputs": [],
   "source": []
  },
  {
   "cell_type": "code",
   "execution_count": null,
   "id": "6cb02fad-3c9e-4da4-8384-42997ad2d3bd",
   "metadata": {},
   "outputs": [],
   "source": []
  },
  {
   "cell_type": "code",
   "execution_count": null,
   "id": "2bae005b-b63a-4a84-8e2e-9c397c0d66d1",
   "metadata": {},
   "outputs": [],
   "source": []
  },
  {
   "cell_type": "markdown",
   "id": "5e9b235c-5ed7-45d2-b8bb-2b0459339b7d",
   "metadata": {},
   "source": [
    "# Saving the clean data to another csv"
   ]
  },
  {
   "cell_type": "code",
   "execution_count": 152,
   "id": "0b8792cc-98a0-40ea-ae98-6522b79f14b0",
   "metadata": {},
   "outputs": [],
   "source": [
    "# Add useful features to sales data\n",
    "sales_df['year'] = sales_df['date'].dt.year\n",
    "sales_df['month'] = sales_df['date'].dt.month\n",
    "sales_df['day_of_week'] = sales_df['date'].dt.day_name()\n",
    "sales_df['is_weekend'] = sales_df['date'].dt.weekday >= 5\n",
    "\n",
    "# Merge with store and product info\n",
    "sales_clean = sales_df.merge(stores_df, on='store_id')\n",
    "sales_clean = sales_clean.merge(products_df[['product_id', 'category', 'unit_cost']], on='product_id')\n",
    "\n",
    "# Save clean datasets\n",
    "sales_clean.to_csv('sales_clean.csv', index=False)\n",
    "inventory_df.to_csv('inventory_clean.csv', index=False)\n",
    "external_df.to_csv('external_clean.csv', index=False)"
   ]
  }
 ],
 "metadata": {
  "kernelspec": {
   "display_name": "Python 3 (ipykernel)",
   "language": "python",
   "name": "python3"
  },
  "language_info": {
   "codemirror_mode": {
    "name": "ipython",
    "version": 3
   },
   "file_extension": ".py",
   "mimetype": "text/x-python",
   "name": "python",
   "nbconvert_exporter": "python",
   "pygments_lexer": "ipython3",
   "version": "3.12.4"
  }
 },
 "nbformat": 4,
 "nbformat_minor": 5
}
